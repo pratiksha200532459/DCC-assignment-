{
 "cells": [
  {
   "cell_type": "code",
   "execution_count": 1,
   "metadata": {
    "colab": {
     "base_uri": "https://localhost:8080/"
    },
    "id": "7v92fB5GtG2T",
    "outputId": "12099aee-c86f-4bd6-88f7-664fedcd0402"
   },
   "outputs": [
    {
     "name": "stdout",
     "output_type": "stream",
     "text": [
      "Looking in indexes: https://pypi.org/simple, https://us-python.pkg.dev/colab-wheels/public/simple/\n",
      "Requirement already satisfied: pyspark in /usr/local/lib/python3.8/dist-packages (3.3.1)\n",
      "Requirement already satisfied: py4j==0.10.9.5 in /usr/local/lib/python3.8/dist-packages (from pyspark) (0.10.9.5)\n"
     ]
    }
   ],
   "source": [
    "# Install pyspark\n",
    "!pip install pyspark\n",
    "# Import SparkSession\n",
    "from pyspark.sql import SparkSession"
   ]
  },
  {
   "cell_type": "code",
   "execution_count": 2,
   "metadata": {
    "id": "4ypLInRFtSk_"
   },
   "outputs": [],
   "source": [
    "spark = SparkSession.builder.master(\"local[*]\").getOrCreate()\n"
   ]
  },
  {
   "cell_type": "code",
   "execution_count": 4,
   "metadata": {
    "id": "D9k6zkMotz7c"
   },
   "outputs": [],
   "source": [
    "# Import a Spark function from library\n",
    "from pyspark.sql.functions import col"
   ]
  },
  {
   "cell_type": "markdown",
   "metadata": {
    "id": "Ar2lS22AvGbV"
   },
   "source": [
    "## 1. Import Datasets"
   ]
  },
  {
   "cell_type": "code",
   "execution_count": 5,
   "metadata": {
    "colab": {
     "base_uri": "https://localhost:8080/"
    },
    "id": "odnP_NaCt3xg",
    "outputId": "6611c550-5d90-44fe-87b6-1043e71eba63"
   },
   "outputs": [
    {
     "name": "stdout",
     "output_type": "stream",
     "text": [
      "+------+----+----------+----------+---------+---------+---------+---------+----------+----+----+\n",
      "|GameID|Week|HomeTeamID|AwayTeamID|HomeScore|AwayScore|DayOfWeek|TimeOfDay| FieldType|Temp|Wind|\n",
      "+------+----+----------+----------+---------+---------+---------+---------+----------+----+----+\n",
      "|     1|   1|         1|        29|       16|       23|      Sun|      Day| sportturf|  74|   8|\n",
      "|     2|   2|         1|        28|       26|        6|      Thu|    Night| sportturf|  82|   6|\n",
      "|     3|   3|        27|         1|       21|       23|      Sun|      Day|    grass |  71|  23|\n",
      "|     4|   4|         1|        15|       38|       10|      Sun|      Day| sportturf|  78|   4|\n",
      "|     5|   5|         7|         1|       20|       13|      Sun|      Day|fieldturf |   0|   0|\n",
      "+------+----+----------+----------+---------+---------+---------+---------+----------+----+----+\n",
      "only showing top 5 rows\n",
      "\n"
     ]
    }
   ],
   "source": [
    "# Load data from csv to a dataframe. \n",
    "df_nflgames = spark.read.csv('nflgames.csv', header=True)\n",
    "df_nflgames.show(5)"
   ]
  },
  {
   "cell_type": "code",
   "execution_count": 6,
   "metadata": {
    "colab": {
     "base_uri": "https://localhost:8080/"
    },
    "id": "jOh0gc3lu52F",
    "outputId": "11f1290d-098a-475c-d977-fd283d056de5"
   },
   "outputs": [
    {
     "name": "stdout",
     "output_type": "stream",
     "text": [
      "+--------+-----------------+----------+------+\n",
      "|PlayerID|       PlayerName|PositionID|TeamID|\n",
      "+--------+-----------------+----------+------+\n",
      "|       1|      Kamar Aiken|         3|     1|\n",
      "|       2|     Marlon Brown|         3|     1|\n",
      "|       3|    Jeremy Butler|         3|     1|\n",
      "|       4|Michael Campanaro|         3|     1|\n",
      "|       5|     Owen Daniels|         4|     1|\n",
      "+--------+-----------------+----------+------+\n",
      "only showing top 5 rows\n",
      "\n"
     ]
    }
   ],
   "source": [
    "df_nfl_players = spark.read.csv('nflplayers.csv', header=True)\n",
    "df_nfl_players.show(5)"
   ]
  },
  {
   "cell_type": "code",
   "execution_count": 7,
   "metadata": {
    "colab": {
     "base_uri": "https://localhost:8080/"
    },
    "id": "RBlT6PJlvQ2k",
    "outputId": "9924b27e-8b5b-486d-b927-968cd67ecb4c"
   },
   "outputs": [
    {
     "name": "stdout",
     "output_type": "stream",
     "text": [
      "+----------+------------+\n",
      "|PositionID|PositionName|\n",
      "+----------+------------+\n",
      "|         1|          QB|\n",
      "|         2|          RB|\n",
      "|         3|          WR|\n",
      "|         4|          TE|\n",
      "|         5|           K|\n",
      "+----------+------------+\n",
      "\n"
     ]
    }
   ],
   "source": [
    "df_nfl_positions = spark.read.csv('nflpositions.csv', header=True)\n",
    "df_nfl_positions.show(5)"
   ]
  },
  {
   "cell_type": "code",
   "execution_count": 8,
   "metadata": {
    "colab": {
     "base_uri": "https://localhost:8080/"
    },
    "id": "-KN-CWnHvWNr",
    "outputId": "f2ebdc51-24e6-4ff7-d026-0282375deabf"
   },
   "outputs": [
    {
     "name": "stdout",
     "output_type": "stream",
     "text": [
      "+------+-------------------+------------+--------+\n",
      "|TeamID|           TeamName|TeamCapsAbrv|TeamAbrv|\n",
      "+------+-------------------+------------+--------+\n",
      "|     1|   Baltimore Ravens|         RAV|     rav|\n",
      "|     2|     Denver Broncos|         DEN|     den|\n",
      "|     3|    Oakland Raiders|         RAI|     rai|\n",
      "|     4|Philadelphia Eagles|         PHI|     phi|\n",
      "|     5|     Dallas Cowboys|         DAL|     dal|\n",
      "+------+-------------------+------------+--------+\n",
      "only showing top 5 rows\n",
      "\n"
     ]
    }
   ],
   "source": [
    "df_nfl_teams = spark.read.csv('nflteams.csv', header=True)\n",
    "df_nfl_teams.show(5)"
   ]
  },
  {
   "cell_type": "markdown",
   "metadata": {
    "id": "HVuM38Cwwwgm"
   },
   "source": [
    "## 2.\tFind the team name that has the highest average HomeScore as the home team."
   ]
  },
  {
   "cell_type": "markdown",
   "metadata": {
    "id": "PGFNtPk3yaJN"
   },
   "source": [
    "To find the team name, we need to first find the team ID corresponding to the highest average Homescore from the nflgames table. Thus, groupby average score according to the hometeam"
   ]
  },
  {
   "cell_type": "code",
   "execution_count": 9,
   "metadata": {
    "colab": {
     "base_uri": "https://localhost:8080/"
    },
    "id": "S6XuOkOxvbNh",
    "outputId": "23bb59a2-57c3-49df-e07b-40b450667c26"
   },
   "outputs": [
    {
     "name": "stdout",
     "output_type": "stream",
     "text": [
      "+----------+------------------+\n",
      "|HomeTeamID|    avg(HomeScore)|\n",
      "+----------+------------------+\n",
      "|         7|29.571428571428573|\n",
      "|        15|18.333333333333332|\n",
      "|        11|35.666666666666664|\n",
      "|        29|26.166666666666668|\n",
      "|         3|18.333333333333332|\n",
      "|        30|              18.6|\n",
      "|         8|              19.6|\n",
      "|        28|              35.0|\n",
      "|        22|              27.0|\n",
      "|        16|16.333333333333332|\n",
      "|         5|21.428571428571427|\n",
      "|        31|40.833333333333336|\n",
      "|        18|              26.0|\n",
      "|        27|21.666666666666668|\n",
      "|        17|23.333333333333332|\n",
      "|        26|18.285714285714285|\n",
      "|         6|              17.5|\n",
      "|        19|15.166666666666666|\n",
      "|        23|28.666666666666668|\n",
      "|        25|              26.2|\n",
      "+----------+------------------+\n",
      "only showing top 20 rows\n",
      "\n"
     ]
    }
   ],
   "source": [
    "# lets first calculate and visualise average homescore \n",
    "\n",
    "df_avg_homescore = df_nflgames.groupBy(\"HomeTeamID\").agg({\"HomeScore\":\"avg\"})\n",
    "df_avg_homescore.show()"
   ]
  },
  {
   "cell_type": "code",
   "execution_count": 10,
   "metadata": {
    "colab": {
     "base_uri": "https://localhost:8080/"
    },
    "id": "FK9LhWPs4tja",
    "outputId": "0042ce96-f72a-4ec6-b4a8-be876d5cbd17"
   },
   "outputs": [
    {
     "name": "stdout",
     "output_type": "stream",
     "text": [
      "+----------+------------------+\n",
      "|HomeTeamID|    avg(HomeScore)|\n",
      "+----------+------------------+\n",
      "|        31|40.833333333333336|\n",
      "|         4|36.666666666666664|\n",
      "|        11|35.666666666666664|\n",
      "|         2|35.333333333333336|\n",
      "|        28|              35.0|\n",
      "|        20|              30.0|\n",
      "|         7|29.571428571428573|\n",
      "|        23|28.666666666666668|\n",
      "|         1|27.166666666666668|\n",
      "|        22|              27.0|\n",
      "|        25|              26.2|\n",
      "|        29|26.166666666666668|\n",
      "|        18|              26.0|\n",
      "|         9|25.666666666666668|\n",
      "|        10|24.833333333333332|\n",
      "|        13|              24.5|\n",
      "|        32|24.333333333333332|\n",
      "|        17|23.333333333333332|\n",
      "|        14|22.666666666666668|\n",
      "|        24|22.142857142857142|\n",
      "+----------+------------------+\n",
      "only showing top 20 rows\n",
      "\n"
     ]
    }
   ],
   "source": [
    " # sorting in non-ascending order to extract hometeam with highest averag score\n",
    " df_avg_homescore.sort('avg(HomeScore)', ascending = False).show()"
   ]
  },
  {
   "cell_type": "markdown",
   "metadata": {
    "id": "FW1mXmf6Ny6C"
   },
   "source": [
    "We can see TeamID 31 has the highest average homescore. We can use this ID to find out the name from the teams table"
   ]
  },
  {
   "cell_type": "code",
   "execution_count": 11,
   "metadata": {
    "colab": {
     "base_uri": "https://localhost:8080/"
    },
    "id": "1fYDHsjIL8R9",
    "outputId": "1603c06b-5e1b-47c1-9fb4-6b3f623dc0c2"
   },
   "outputs": [
    {
     "name": "stdout",
     "output_type": "stream",
     "text": [
      "+------+-----------------+------------+--------+\n",
      "|TeamID|         TeamName|TeamCapsAbrv|TeamAbrv|\n",
      "+------+-----------------+------------+--------+\n",
      "|    31|Green Bay Packers|         GNB|     gnb|\n",
      "+------+-----------------+------------+--------+\n",
      "\n"
     ]
    }
   ],
   "source": [
    "df_nfl_teams.filter(df_nfl_teams.TeamID==31).show()"
   ]
  },
  {
   "cell_type": "markdown",
   "metadata": {
    "id": "pfSOg1hDOgwv"
   },
   "source": [
    "#### **ANS: Green Bay Packers has the highest average homescore**"
   ]
  },
  {
   "cell_type": "code",
   "execution_count": 11,
   "metadata": {
    "id": "IIf0bk9TMzpW"
   },
   "outputs": [],
   "source": []
  },
  {
   "cell_type": "markdown",
   "metadata": {
    "id": "IccO3-_TedL0"
   },
   "source": [
    "## 3.\tWhich FieldType has the highest total scores (HomeScore + AwayScore) on average (averaging over the games in this FieldType)? Which has the lowest?"
   ]
  },
  {
   "cell_type": "markdown",
   "metadata": {
    "id": "Wqwmx-WOfl5_"
   },
   "source": [
    "let us first create a total score column(HomeScore + AwayScore)"
   ]
  },
  {
   "cell_type": "code",
   "execution_count": 12,
   "metadata": {
    "id": "7p87W3CQeisA"
   },
   "outputs": [],
   "source": [
    "df_nflgames = df_nflgames.withColumn('total_score', df_nflgames.HomeScore + df_nflgames.AwayScore)"
   ]
  },
  {
   "cell_type": "code",
   "execution_count": 13,
   "metadata": {
    "colab": {
     "base_uri": "https://localhost:8080/"
    },
    "id": "I8bttp7_gINL",
    "outputId": "b868255a-4a03-4492-efc8-aea27255fd72"
   },
   "outputs": [
    {
     "name": "stdout",
     "output_type": "stream",
     "text": [
      "+------+----+----------+----------+---------+---------+---------+---------+----------+----+----+-----------+\n",
      "|GameID|Week|HomeTeamID|AwayTeamID|HomeScore|AwayScore|DayOfWeek|TimeOfDay| FieldType|Temp|Wind|total_score|\n",
      "+------+----+----------+----------+---------+---------+---------+---------+----------+----+----+-----------+\n",
      "|     1|   1|         1|        29|       16|       23|      Sun|      Day| sportturf|  74|   8|       39.0|\n",
      "|     2|   2|         1|        28|       26|        6|      Thu|    Night| sportturf|  82|   6|       32.0|\n",
      "|     3|   3|        27|         1|       21|       23|      Sun|      Day|    grass |  71|  23|       44.0|\n",
      "|     4|   4|         1|        15|       38|       10|      Sun|      Day| sportturf|  78|   4|       48.0|\n",
      "|     5|   5|         7|         1|       20|       13|      Sun|      Day|fieldturf |   0|   0|       33.0|\n",
      "|     6|   6|        19|         1|       17|       48|      Sun|      Day|    grass |  84|   6|       65.0|\n",
      "|     7|   7|         1|        20|       29|        7|      Sun|      Day| sportturf|  54|  14|       36.0|\n",
      "|     8|   8|        29|         1|       27|       24|      Sun|      Day|fieldturf |  62|   6|       51.0|\n",
      "|     9|   9|        28|         1|       43|       23|      Sun|    Night|    grass |  38|   6|       66.0|\n",
      "|    10|  10|         1|        12|       21|        7|      Sun|      Day| sportturf|  57|   7|       28.0|\n",
      "|    11|  12|        22|         1|       27|       34|      Mon|    Night| sportturf|   0|   0|       61.0|\n",
      "|    12|  13|         1|         9|       33|       34|      Sun|      Day| sportturf|  54|   8|       67.0|\n",
      "|    13|   1|         2|         7|       31|       24|      Sun|    Night|    grass |  75|   6|       55.0|\n",
      "|    14|   2|         2|        10|       24|       17|      Sun|      Day|    grass |  85|   7|       41.0|\n",
      "|    15|   3|        23|         2|       26|       20|      Sun|      Day|fieldturf |  70|   7|       46.0|\n",
      "|    16|   5|         2|        17|       41|       20|      Sun|      Day|    grass |  71|  10|       61.0|\n",
      "|    17|   6|        26|         2|       17|       31|      Sun|      Day|fieldturf |  61|   5|       48.0|\n",
      "|    18|   7|         2|        16|       42|       17|      Sun|    Night|    grass |  67|   4|       59.0|\n",
      "|    19|   8|         2|         9|       35|       21|      Thu|    Night|    grass |  68|   3|       56.0|\n",
      "|    20|   9|        11|         2|       43|       21|      Sun|      Day|fieldturf |  35|  19|       64.0|\n",
      "+------+----+----------+----------+---------+---------+---------+---------+----------+----+----+-----------+\n",
      "only showing top 20 rows\n",
      "\n"
     ]
    }
   ],
   "source": [
    "df_nflgames.show()"
   ]
  },
  {
   "cell_type": "markdown",
   "metadata": {
    "id": "cyaktsvyhRbY"
   },
   "source": [
    "Now groupby over the fieldtype columns to find the average over all games in the specific fieldtypes"
   ]
  },
  {
   "cell_type": "code",
   "execution_count": 14,
   "metadata": {
    "colab": {
     "base_uri": "https://localhost:8080/"
    },
    "id": "GDe_G9W2gQfr",
    "outputId": "5ae35165-9424-43aa-a8cc-e03650091d81"
   },
   "outputs": [
    {
     "name": "stdout",
     "output_type": "stream",
     "text": [
      "+----------+------------------+\n",
      "| FieldType|  avg(total_score)|\n",
      "+----------+------------------+\n",
      "|    a_turf|38.166666666666664|\n",
      "|    grass |46.515151515151516|\n",
      "| fieldturf|              45.0|\n",
      "|     grass|34.833333333333336|\n",
      "|matrixturf|44.857142857142854|\n",
      "| astroplay|              48.0|\n",
      "|fieldturf |             47.22|\n",
      "| sportturf|46.916666666666664|\n",
      "+----------+------------------+\n",
      "\n"
     ]
    }
   ],
   "source": [
    "df_avg_FieldType = df_nflgames.groupBy(\"FieldType\").agg({\"total_score\":\"avg\"})\n",
    "df_avg_FieldType.show()"
   ]
  },
  {
   "cell_type": "code",
   "execution_count": 15,
   "metadata": {
    "colab": {
     "base_uri": "https://localhost:8080/"
    },
    "id": "nUL0xqS6iROB",
    "outputId": "8498678f-490e-4583-96e4-1d2be4fbc12f"
   },
   "outputs": [
    {
     "name": "stdout",
     "output_type": "stream",
     "text": [
      "+----------+------------------+\n",
      "| FieldType|  avg(total_score)|\n",
      "+----------+------------------+\n",
      "| astroplay|              48.0|\n",
      "|fieldturf |             47.22|\n",
      "| sportturf|46.916666666666664|\n",
      "|    grass |46.515151515151516|\n",
      "| fieldturf|              45.0|\n",
      "|matrixturf|44.857142857142854|\n",
      "|    a_turf|38.166666666666664|\n",
      "|     grass|34.833333333333336|\n",
      "+----------+------------------+\n",
      "\n"
     ]
    }
   ],
   "source": [
    " # We can see astroplay has the highest total score on average(48) but lets make to more clear by sorting in non-ascending order\n",
    " df_avg_FieldType.sort('avg(total_score)', ascending = False).show()"
   ]
  },
  {
   "cell_type": "markdown",
   "metadata": {
    "id": "KOzJ3RUbjxa0"
   },
   "source": [
    "**ANS: Astroplay has the highest total scores on average(48.0). Grass has the lowest(34.8)**"
   ]
  },
  {
   "cell_type": "code",
   "execution_count": 15,
   "metadata": {
    "id": "RCUPpX-Hilg2"
   },
   "outputs": [],
   "source": []
  },
  {
   "cell_type": "markdown",
   "metadata": {
    "id": "lW0282jVkINM"
   },
   "source": [
    "## 4. On average, how many players does a team have in each position?"
   ]
  },
  {
   "cell_type": "markdown",
   "metadata": {
    "id": "8cCkDJMCo7Ru"
   },
   "source": [
    "Lets count positions from the players tables to find out the numer of players in each position per team. We would have to group by both the teams and the PositionID"
   ]
  },
  {
   "cell_type": "code",
   "execution_count": 16,
   "metadata": {
    "colab": {
     "base_uri": "https://localhost:8080/"
    },
    "id": "r2GqyVQZkNkz",
    "outputId": "b0366fd0-8778-493d-e8c1-cc68baf1b0d5"
   },
   "outputs": [
    {
     "name": "stdout",
     "output_type": "stream",
     "text": [
      "+------+----------+-----------------+\n",
      "|TeamID|PositionID|count(PositionID)|\n",
      "+------+----------+-----------------+\n",
      "|31    |3         |7                |\n",
      "|9     |4         |4                |\n",
      "|10    |5         |1                |\n",
      "|31    |1         |3                |\n",
      "|22    |2         |4                |\n",
      "|29    |5         |1                |\n",
      "|21    |3         |5                |\n",
      "|26    |1         |3                |\n",
      "|9     |5         |1                |\n",
      "|8     |2         |3                |\n",
      "|7     |1         |2                |\n",
      "|16    |2         |4                |\n",
      "|4     |1         |4                |\n",
      "|4     |2         |3                |\n",
      "|5     |4         |4                |\n",
      "|15    |2         |4                |\n",
      "|25    |5         |1                |\n",
      "|23    |5         |1                |\n",
      "|1     |4         |3                |\n",
      "|5     |1         |3                |\n",
      "+------+----------+-----------------+\n",
      "only showing top 20 rows\n",
      "\n"
     ]
    }
   ],
   "source": [
    "df_avg_PositionID = df_nfl_players.groupBy(\"TeamID\",'PositionID').agg({\"PositionID\":\"count\"})\n",
    "df_avg_PositionID.show(truncate=False)"
   ]
  },
  {
   "cell_type": "markdown",
   "metadata": {
    "id": "awOzGIF8yTVC"
   },
   "source": [
    "Now average over the players at each position per team"
   ]
  },
  {
   "cell_type": "code",
   "execution_count": 17,
   "metadata": {
    "colab": {
     "base_uri": "https://localhost:8080/"
    },
    "id": "Oh84Q6Pnr5GQ",
    "outputId": "d2090bbc-493e-4e81-ec49-85b174bd43d7"
   },
   "outputs": [
    {
     "name": "stdout",
     "output_type": "stream",
     "text": [
      "+----------+----------------------+\n",
      "|PositionID|avg(count(PositionID))|\n",
      "+----------+----------------------+\n",
      "|         3|               6.78125|\n",
      "|         5|     1.096774193548387|\n",
      "|         1|               2.71875|\n",
      "|         4|                 3.875|\n",
      "|         2|               4.53125|\n",
      "+----------+----------------------+\n",
      "\n"
     ]
    }
   ],
   "source": [
    "df_avg = df_avg_PositionID.groupBy('PositionID').agg({\"count(PositionID)\":\"avg\"})\n",
    "df_avg.show()"
   ]
  },
  {
   "cell_type": "markdown",
   "metadata": {
    "id": "qlNGHrj5ygNt"
   },
   "source": [
    "OPTIONAL: number of players per position in decimal doesn't make sense; thus, we can round off figures. Also, lets rename col names"
   ]
  },
  {
   "cell_type": "code",
   "execution_count": 18,
   "metadata": {
    "colab": {
     "base_uri": "https://localhost:8080/"
    },
    "id": "iBSs6Ztzt3CS",
    "outputId": "7b813ab9-6f60-42ba-f9a0-b03548e1ce6f"
   },
   "outputs": [
    {
     "name": "stdout",
     "output_type": "stream",
     "text": [
      "+----------+-----------------------------+\n",
      "|PositionID|players per position(rounded)|\n",
      "+----------+-----------------------------+\n",
      "|         3|                          7.0|\n",
      "|         5|                          1.0|\n",
      "|         1|                          3.0|\n",
      "|         4|                          4.0|\n",
      "|         2|                          5.0|\n",
      "+----------+-----------------------------+\n",
      "\n"
     ]
    }
   ],
   "source": [
    "df_avg = df_avg.withColumnRenamed(\"avg(count(PositionID))\",\"players per position per team(on average)\")\n",
    "from pyspark.sql.functions import round, col\n",
    "df_avg = df_avg.select(\"*\", round(col('players per position per team(on average)'))).drop('players per position per team(on average)')\n",
    "df_avg = df_avg.withColumnRenamed(\"round(players per position per team(on average), 0)\",\"players per position(rounded)\")\n",
    "df_avg.show()"
   ]
  },
  {
   "cell_type": "markdown",
   "metadata": {
    "id": "or67_gYTpFWU"
   },
   "source": [
    "we can join the above table with the nfl_position table to display the position names along with the Ids"
   ]
  },
  {
   "cell_type": "code",
   "execution_count": 19,
   "metadata": {
    "colab": {
     "base_uri": "https://localhost:8080/"
    },
    "id": "gQjgDMzYlmXr",
    "outputId": "55a23ddd-e51d-4ff4-e9a3-6d85ae2e90c2"
   },
   "outputs": [
    {
     "name": "stdout",
     "output_type": "stream",
     "text": [
      "+----------+------------+-----------------------------+\n",
      "|PositionID|PositionName|players per position(rounded)|\n",
      "+----------+------------+-----------------------------+\n",
      "|         3|          WR|                          7.0|\n",
      "|         5|           K|                          1.0|\n",
      "|         1|          QB|                          3.0|\n",
      "|         4|          TE|                          4.0|\n",
      "|         2|          RB|                          5.0|\n",
      "+----------+------------+-----------------------------+\n",
      "\n"
     ]
    }
   ],
   "source": [
    "df_avg.join(df_nfl_positions,df_avg.PositionID ==  df_nfl_positions.PositionID,\"inner\")\\\n",
    ".select(df_avg.PositionID,'PositionName','players per position(rounded)').show()"
   ]
  },
  {
   "cell_type": "markdown",
   "metadata": {
    "id": "g-kjsrJCpV_G"
   },
   "source": [
    "**ANS: Above table shows the number of players a team has(on average) at each position. The numbers are rounded off. The orignal table can also be seen above.**"
   ]
  },
  {
   "cell_type": "code",
   "execution_count": 19,
   "metadata": {
    "id": "44hmJok5zR42"
   },
   "outputs": [],
   "source": []
  }
 ],
 "metadata": {
  "colab": {
   "provenance": []
  },
  "kernelspec": {
   "display_name": "Python 3 (ipykernel)",
   "language": "python",
   "name": "python3"
  },
  "language_info": {
   "codemirror_mode": {
    "name": "ipython",
    "version": 3
   },
   "file_extension": ".py",
   "mimetype": "text/x-python",
   "name": "python",
   "nbconvert_exporter": "python",
   "pygments_lexer": "ipython3",
   "version": "3.9.13"
  }
 },
 "nbformat": 4,
 "nbformat_minor": 1
}
